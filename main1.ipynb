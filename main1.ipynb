{
 "cells": [
  {
   "cell_type": "code",
   "execution_count": 8,
   "metadata": {},
   "outputs": [
    {
     "name": "stdout",
     "output_type": "stream",
     "text": [
      " >\n",
      "0  > I001\n",
      " > I001 \n",
      "0\n",
      "1 0 I002\n"
     ]
    },
    {
     "ename": "TypeError",
     "evalue": "cannot unpack non-iterable NoneType object",
     "output_type": "error",
     "traceback": [
      "\u001b[0;31m---------------------------------------------------------------------------\u001b[0m",
      "\u001b[0;31mTypeError\u001b[0m                                 Traceback (most recent call last)",
      "\u001b[1;32m/home/ramin/ast1/main1.ipynb Cell 1\u001b[0m line \u001b[0;36m5\n\u001b[1;32m     <a href='vscode-notebook-cell://wsl%2Bubuntu-22.04/home/ramin/ast1/main1.ipynb#W0sdnNjb2RlLXJlbW90ZQ%3D%3D?line=50'>51</a>\u001b[0m \u001b[39mfor\u001b[39;00m e \u001b[39min\u001b[39;00m el:\n\u001b[1;32m     <a href='vscode-notebook-cell://wsl%2Bubuntu-22.04/home/ramin/ast1/main1.ipynb#W0sdnNjb2RlLXJlbW90ZQ%3D%3D?line=51'>52</a>\u001b[0m     \u001b[39mprint\u001b[39m(e[\u001b[39m0\u001b[39m])\n\u001b[0;32m---> <a href='vscode-notebook-cell://wsl%2Bubuntu-22.04/home/ramin/ast1/main1.ipynb#W0sdnNjb2RlLXJlbW90ZQ%3D%3D?line=52'>53</a>\u001b[0m     loc,loc_par\u001b[39m=\u001b[39mfind_loc(e[\u001b[39m0\u001b[39m],el)\n\u001b[1;32m     <a href='vscode-notebook-cell://wsl%2Bubuntu-22.04/home/ramin/ast1/main1.ipynb#W0sdnNjb2RlLXJlbW90ZQ%3D%3D?line=53'>54</a>\u001b[0m     \u001b[39mprint\u001b[39m(e[\u001b[39m0\u001b[39m],loc,loc_par)\n",
      "\u001b[0;31mTypeError\u001b[0m: cannot unpack non-iterable NoneType object"
     ]
    }
   ],
   "source": [
    "el=[\n",
    "        [\" >\",\"salam\",\"\",\"\",\"\"],\n",
    "        [\"0\",\"\",\"\",\"\",\"\"],\n",
    "        [\"00\",\"\",\"\",\"\",\"\"],\n",
    "        [\"000\",\"\",\"\",\"\",\"\"],\n",
    "        [\"0000\",\"\",\"\",\"\",\"\"],\n",
    "        [\"00009\",\"\",\"\",\"\",\"\"],\n",
    "        [\"0001\",\"\",\"\",\"\",\"\"],\n",
    "        [\"00010\",\"\",\"\",\"\",\"\"],\n",
    "        [\"00011\",\"\",\"\",\"\",\"\"],\n",
    "        [\"001\",\"\",\"\",\"\",\"\"],\n",
    "        [\"0010\",\"\",\"\",\"\",\"\"],\n",
    "        [\"01\",\"\",\"\",\"\",\"\"],\n",
    "        [\"010\",\"\",\"\",\"\",\"\"],\n",
    "        [\"02\",\"\",\"\",\"\",\"\"],\n",
    "        [\"020\",\"\",\"\",\"\",\"\"],\n",
    "        [\"021\",\"\",\"\",\"\",\"\"],\n",
    "        [\"1\",\"\",\"\",\"\",\"\"],\n",
    "        [\"10\",\"\",\"\",\"\",\"\"],\n",
    "        [\"11\",\"\",\"\",\"\",\"\"],\n",
    "        [\"12\",\"\",\"\",\"\",\"\"],\n",
    "        [\"2\",\"\",\"\",\"\",\"\"],\n",
    "        [\"20\",\"\",\"\",\"\",\"\"],\n",
    "        [\"21\",\"\",\"\",\"\",\"\"],\n",
    "        [\"23\",\"\",\"\",\"\",\"\"],\n",
    "    ]\n",
    "###############################\n",
    "def find_loc(num,el):\n",
    "    \n",
    "    for i in range(len(el)):\n",
    "        if(num==el[i][0]):\n",
    "            loc=\"I\"+str(hex(i+1).upper())[2:].zfill(3)\n",
    "            break\n",
    "\n",
    "    print(i,num,loc)\n",
    "    \n",
    "    if(i==0):\n",
    "        loc_par=\"\"\n",
    "        return loc,loc_par\n",
    "    \n",
    "    if len(num)==0:\n",
    "        loc_par==\"I001\"\n",
    "        return loc,loc_par\n",
    "    \n",
    "    par=num[:-1]\n",
    "    for i in range(len(el)):\n",
    "        if(par==el[i][0]):\n",
    "            loc_par=\"I\"+str(hex(i+1).upper())[2:].zfill(3)\n",
    "            return  loc,loc_par\n",
    "\n",
    "for e in el:\n",
    "    print(e[0])\n",
    "    loc,loc_par=find_loc(e[0],el)\n",
    "    print(e[0],loc,loc_par)"
   ]
  },
  {
   "cell_type": "code",
   "execution_count": null,
   "metadata": {},
   "outputs": [],
   "source": []
  }
 ],
 "metadata": {
  "kernelspec": {
   "display_name": "Python 3",
   "language": "python",
   "name": "python3"
  },
  "language_info": {
   "codemirror_mode": {
    "name": "ipython",
    "version": 3
   },
   "file_extension": ".py",
   "mimetype": "text/x-python",
   "name": "python",
   "nbconvert_exporter": "python",
   "pygments_lexer": "ipython3",
   "version": "3.12.0"
  }
 },
 "nbformat": 4,
 "nbformat_minor": 2
}
